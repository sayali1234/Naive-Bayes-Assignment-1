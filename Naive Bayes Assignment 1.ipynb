{
 "cells": [
  {
   "cell_type": "markdown",
   "id": "95f69770-e12f-4ec9-8d35-a2c2a340070b",
   "metadata": {},
   "source": [
    "Q1) What is Bayes' theorem?"
   ]
  },
  {
   "cell_type": "code",
   "execution_count": null,
   "id": "183d8a0d-2080-4ef2-afc8-820150aba54d",
   "metadata": {},
   "outputs": [],
   "source": [
    "Bayes' theorem is a way of updating our beliefs about the likelihood of something happening, based on new information that we \n",
    "receive.\n",
    "\n",
    "For example, let's say that you want to know the likelihood of catching a cold. You know that the probability of catching a \n",
    "cold is generally low, but it increases if you are exposed to someone who already has a cold.\n",
    "\n",
    "Now, suppose you learn that your co-worker has just come down with a cold. This new information changes your initial belief \n",
    "about the likelihood of catching a cold. Bayes' theorem helps you to update your belief by taking into account the new \n",
    "information.\n",
    "\n",
    "In essence, Bayes' theorem is a mathematical formula that allows you to calculate the probability of something happening, given\n",
    "what you know about the situation. It's a tool that can help you make better decisions by incorporating new information and \n",
    "updating your beliefs accordingly."
   ]
  },
  {
   "cell_type": "markdown",
   "id": "29c8734a-afff-404b-ae33-9d3224d5519f",
   "metadata": {},
   "source": [
    "Q2) What is the formula for Bayes' theorem?"
   ]
  },
  {
   "cell_type": "code",
   "execution_count": null,
   "id": "6689d6f3-49c4-4eca-a25d-51993ee7df63",
   "metadata": {},
   "outputs": [],
   "source": [
    "The formula for Bayes' theorem can be stated as follows:"
   ]
  },
  {
   "attachments": {
    "94932ce4-8b9d-4efd-9d3d-c3c35dafc404.png": {
     "image/png": "[encoded data removed]"
    }
   },
   "cell_type": "markdown",
   "id": "c5a8934f-69da-4355-ba8b-b796feaea91a",
   "metadata": {},
   "source": [
    "![image.png](attachment:94932ce4-8b9d-4efd-9d3d-c3c35dafc404.png)"
   ]
  },
  {
   "cell_type": "code",
   "execution_count": null,
   "id": "94b8c9d3-3642-466f-b316-361991693b42",
   "metadata": {},
   "outputs": [],
   "source": [
    "Where:\n",
    "    \n",
    "P(A|B) is the probability of event A given that event B has occurred\n",
    "P(B|A) is the probability of event B given that event A has occurred\n",
    "P(A) is the prior probability of event A\n",
    "P(B) is the prior probability of event B\n",
    "\n",
    "In other words, Bayes' theorem tells us how to calculate the probability of A, given the probability of B and the conditional\n",
    "probability of B given A. It allows us to update our beliefs about the probability of A in light of new evidence B."
   ]
  },
  {
   "cell_type": "markdown",
   "id": "3ceb8872-6d54-4b3a-ba6b-1c574e0366d9",
   "metadata": {},
   "source": [
    "Q3) How is Bayes' theorem used in practice?"
   ]
  },
  {
   "cell_type": "code",
   "execution_count": null,
   "id": "a84947dc-f8a1-449f-ab34-2c1751bb532f",
   "metadata": {},
   "outputs": [],
   "source": [
    "Bayes' theorem is used in a wide range of practical applications, from medical diagnosis to spam filtering. Here are a few \n",
    "examples:\n",
    "    \n",
    "1.Medical diagnosis: Bayes' theorem can be used to calculate the probability of a patient having a particular disease, based on\n",
    "their symptoms and other diagnostic tests. For example, if a patient presents with a certain set of symptoms, a doctor can use\n",
    "Bayes' theorem to calculate the probability of a specific disease, and then order additional tests to confirm the diagnosis.\n",
    "\n",
    "2.Spam filtering: Bayes' theorem can be used to classify emails as spam or non-spam. The algorithm looks at the words in the\n",
    "email and calculates the probability that the email is spam, based on the frequency of words that are commonly found in spam \n",
    "emails.\n",
    "\n",
    "3.Risk assessment: Bayes' theorem can be used to assess the risk of a particular event occurring, such as a natural disaster or\n",
    "a terrorist attack. The probability of the event can be estimated based on historical data and other relevant information, and\n",
    "then used to inform decision-making and risk management strategies.\n",
    "\n",
    "4.Machine learning: Bayes' theorem is used in various machine learning algorithms, such as Naive Bayes classifiers, which can\n",
    "be trained to predict the probability of a certain outcome based on a set of input variables.\n",
    "\n",
    "In all of these applications, Bayes' theorem allows us to update our beliefs and make more informed decisions based on new \n",
    "information."
   ]
  },
  {
   "cell_type": "markdown",
   "id": "c4a28c66-eb87-4466-9a89-04f444de2dc7",
   "metadata": {},
   "source": [
    "Q4) What is the relationship between Bayes' theorem and conditional probability?"
   ]
  },
  {
   "cell_type": "code",
   "execution_count": null,
   "id": "0b7f89f2-5a8c-44fc-a458-1540cc8a0c11",
   "metadata": {},
   "outputs": [],
   "source": [
    "Bayes' theorem is essentially a statement about conditional probability. It provides a way to calculate the conditional\n",
    "probability of an event A, given some new information or evidence B.\n",
    "\n",
    "The formula for Bayes' theorem involves two conditional probabilities: P(A|B) and P(B|A). P(A|B) represents the probability of\n",
    "A given that B has occurred, while P(B|A) represents the probability of B given that A has occurred.\n",
    "\n",
    "Bayes' theorem tells us how to calculate the probability of A given B, based on these two conditional probabilities and the\n",
    "prior probabilities of A and B. In other words, it tells us how to update our beliefs about the probability of A, based on the\n",
    "new information provided by B.\n",
    "\n",
    "So, in essence, Bayes' theorem is a tool for working with conditional probabilities, and is particularly useful when we need to\n",
    "update our beliefs in light of new evidence or information."
   ]
  },
  {
   "cell_type": "markdown",
   "id": "3c53f394-d152-40db-a435-3b318c46d029",
   "metadata": {},
   "source": [
    "Q5) How do you choose which type of Naive Bayes classifier to use for any given problem?"
   ]
  },
  {
   "cell_type": "code",
   "execution_count": null,
   "id": "27538c8d-a4a5-4f00-88c5-b221849f2edd",
   "metadata": {},
   "outputs": [],
   "source": [
    "When selecting a type of Naive Bayes classifier to use for a given problem, there are several factors to consider, including:\n",
    "    \n",
    "1.Nature of the problem: The type of Naive Bayes classifier you choose may depend on the nature of the problem you are trying\n",
    "to solve. For example, if you are working with text classification, you may choose a Multinomial Naive Bayes classifier, while \n",
    "if you are working with continuous data, you may choose a Gaussian Naive Bayes classifier.\n",
    "\n",
    "2.Distribution of the data: The distribution of the data may also influence your choice of classifier. If the data is normally\n",
    "distributed, a Gaussian Naive Bayes classifier may be appropriate, while if the data has a categorical distribution, a\n",
    "Multinomial Naive Bayes classifier may be more appropriate.\n",
    "\n",
    "3.Size and quality of the dataset: The size and quality of the dataset may also influence your choice of classifier. If you\n",
    "have a small dataset, a Multinomial Naive Bayes classifier may be more robust, while if you have a large dataset, a Gaussian \n",
    "Naive Bayes classifier may be more efficient.\n",
    "\n",
    "4.Performance requirements: The performance requirements of the problem may also influence your choice of classifier. If you\n",
    "need a fast classifier that can handle large volumes of data, a Bernoulli Naive Bayes classifier may be appropriate, while if\n",
    "you need a more accurate classifier, a Gaussian Naive Bayes classifier may be more suitable.\n",
    "\n",
    "In general, it's a good idea to experiment with different types of Naive Bayes classifiers and evaluate their performance on \n",
    "your specific problem, using metrics such as accuracy, precision, recall, and F1 score. This can help you determine which \n",
    "classifier is best suited to your needs."
   ]
  },
  {
   "cell_type": "markdown",
   "id": "693a9bfb-df2b-4885-9803-a062e0449538",
   "metadata": {},
   "source": [
    "Q6. Assignment:\n",
    "    You have a dataset with two features, X1 and X2, and two possible classes, A and B. You want to use Naive\n",
    "    Bayes to classify a new instance with features X1 = 3 and X2 = 4. The following table shows the frequency of\n",
    "    each feature value for each class:"
   ]
  },
  {
   "cell_type": "code",
   "execution_count": null,
   "id": "001f6d32-644d-4c20-881b-9e9bf481f809",
   "metadata": {},
   "outputs": [],
   "source": [
    "Class X1=1 X1=2 X1=3 X2=1 X2=2 X2=3 X2=4    \n",
    "  A   3     3     4    4   3    3     3\n",
    "  B   2     2     1    2   2    2     3"
   ]
  },
  {
   "cell_type": "code",
   "execution_count": null,
   "id": "a6ba2537-f23b-4942-8a3c-cdbce5a933d2",
   "metadata": {},
   "outputs": [],
   "source": [
    "To classify the new instance with features X1 = 3 and X2 = 4 using Naive Bayes, we need to calculate the posterior probabilities\n",
    "for each class, given these feature values. We can do this using Bayes' theorem:\n",
    "\n",
    "P(A|X1=3,X2=4) = P(X1=3,X2=4|A) * P(A) / P(X1=3,X2=4)\n",
    "\n",
    "P(B|X1=3,X2=4) = P(X1=3,X2=4|B) * P(B) / P(X1=3,X2=4)\n",
    "\n",
    "Since the prior probabilities for A and B are assumed to be equal, we can simplify this to:\n",
    "    \n",
    "P(A|X1=3,X2=4) = P(X1=3,X2=4|A) / P(X1=3,X2=4)\n",
    "\n",
    "P(B|X1=3,X2=4) = P(X1=3,X2=4|B) / P(X1=3,X2=4)\n",
    "\n",
    "To calculate the probabilities, we need to use the Naive Bayes assumption that the features are conditionally independent,\n",
    "given the class. This allows us to factorize the joint probability distribution as follows:\n",
    "    \n",
    "P(X1=3,X2=4|A) = P(X1=3|A) * P(X2=4|A)\n",
    "\n",
    "P(X1=3,X2=4|B) = P(X1=3|B) * P(X2=4|B)\n",
    "\n",
    "We can estimate these probabilities from the frequency table provided:\n",
    "    \n",
    "P(X1=3|A) = 4/10\n",
    "\n",
    "P(X1=3|B) = 1/7\n",
    "\n",
    "P(X2=4|A) = 3/10\n",
    "\n",
    "P(X2=4|B) = 1/7\n",
    "\n",
    "To calculate the denominator, we need to use the law of total probability:\n",
    "P(X1=3,X2=4) = P(X1=3,X2=4|A) * P(A) + P(X1=3,X2=4|B) * P(B)\n",
    "We can estimate these probabilities from the frequency table provided:\n",
    "P(X1=3,X2=4|A) = P(X1=3|A) * P(X2=4|A) = (4/10) * (3/10) = 12/100\n",
    "\n",
    "P(X1=3,X2=4|B) = P(X1=3|B) * P(X2=4|B) = (1/7) * (1/7) = 1/49\n",
    "\n",
    "P(A) = P(B) = 0.5\n",
    "Therefore:\n",
    "P(X1=3,X2=4) = (12/100) * 0.5 + (1/49) * 0.5 = 0.124\n",
    "Now we can plug these values into the formula for the posterior probabilities:\n",
    "P(A|X1=3,X2=4) = (4/10) * (3/10) / 0.124 = 0.967\n",
    "\n",
    "P(B|X1=3,X2=4) = (1/7) * (1/7) / 0.124 = 0.033\n",
    "Therefore, Naive Bayes would predict that the new instance with features X1=3 and X2=4 belongs to class A, since it has a much higher posterior probability than class B."
   ]
  },
  {
   "cell_type": "code",
   "execution_count": null,
   "id": "36d31e17-5178-411f-96cf-b8cd51146306",
   "metadata": {},
   "outputs": [],
   "source": []
  },
  {
   "cell_type": "code",
   "execution_count": null,
   "id": "9e80c4cc-b5f5-4791-9e8b-61539ac8eb69",
   "metadata": {},
   "outputs": [],
   "source": []
  }
 ],
 "metadata": {
  "kernelspec": {
   "display_name": "Python 3 (ipykernel)",
   "language": "python",
   "name": "python3"
  },
  "language_info": {
   "codemirror_mode": {
    "name": "ipython",
    "version": 3
   },
   "file_extension": ".py",
   "mimetype": "text/x-python",
   "name": "python",
   "nbconvert_exporter": "python",
   "pygments_lexer": "ipython3",
   "version": "3.10.8"
  }
 },
 "nbformat": 4,
 "nbformat_minor": 5
}
